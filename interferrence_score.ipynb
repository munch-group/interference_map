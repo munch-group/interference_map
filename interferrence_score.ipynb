{
 "cells": [
  {
   "cell_type": "code",
   "execution_count": 1,
   "metadata": {
    "tags": []
   },
   "outputs": [],
   "source": [
    "import re, os, sys, math, pickle, subprocess, resource, random\n",
    "from pathlib import Path\n",
    "import numpy as np\n",
    "import pandas as pd\n",
    "from pandas import DataFrame, Series"
   ]
  },
  {
   "cell_type": "code",
   "execution_count": 2,
   "metadata": {
    "collapsed": false,
    "jupyter": {
     "outputs_hidden": false
    }
   },
   "outputs": [],
   "source": [
    "# from GenomicWindows import window\n",
    "# import GenomicIntervals\n",
    "from chromwindow import window\n",
    "import genominterv"
   ]
  },
  {
   "cell_type": "code",
   "execution_count": 3,
   "metadata": {
    "collapsed": false,
    "jupyter": {
     "outputs_hidden": false
    }
   },
   "outputs": [],
   "source": [
    "%matplotlib inline\n",
    "\n",
    "# Make inline plots vector graphics instead of raster graphics\n",
    "from matplotlib_inline.backend_inline import set_matplotlib_formats\n",
    "set_matplotlib_formats('pdf', 'svg')\n",
    "\n",
    "import matplotlib\n",
    "import matplotlib.pyplot as plt\n",
    "from matplotlib.colors import ListedColormap\n",
    "from matplotlib.patches import Rectangle\n",
    "#from mpl_toolkits.basemap import Basemap\n",
    "#matplotlib.rcParams['figure.figsize'] = (20.0, 10.0)\n",
    "\n",
    "#import mpld3\n",
    "\n",
    "import seaborn as sns\n",
    "sns.set_style(\"whitegrid\")\n",
    "sns.set_context(\"paper\")\n",
    "\n",
    "# lowess for plotting\n",
    "from statsmodels.nonparametric.smoothers_lowess import lowess"
   ]
  },
  {
   "cell_type": "code",
   "execution_count": 4,
   "metadata": {
    "collapsed": false,
    "jupyter": {
     "outputs_hidden": false
    }
   },
   "outputs": [],
   "source": [
    "root_dir = Path(os.environ['HOME'], 'GenomeDK', 'hri/faststorage/people/kmt')"
   ]
  },
  {
   "cell_type": "code",
   "execution_count": 9,
   "metadata": {},
   "outputs": [
    {
     "name": "stdout",
     "output_type": "stream",
     "text": [
      "chr10 131591370 187.08918827026162\n",
      "chr10 131591374 187.089188850254\n",
      "chr10 131591375 187.08918899525204\n",
      "chr10 131591377 187.0891892852481\n",
      "chr10 131591378 187.0891894302464\n",
      "chr10 131591379 187.0891895752444\n",
      "chr10 131591380 187.08918972024247\n",
      "chr10 131591825 182.69072675521127\n",
      "chr10 131591826 182.69072622047244\n",
      "chr10 131591828 182.69072515099384\n"
     ]
    }
   ],
   "source": [
    "! tail ../steps/interference_score/chimp/gerp/scores_species_coord/chr10.scores"
   ]
  },
  {
   "cell_type": "code",
   "execution_count": 5,
   "metadata": {
    "collapsed": false,
    "jupyter": {
     "outputs_hidden": false
    }
   },
   "outputs": [],
   "source": [
    "#scores = pd.read_table(root_dir / test.scores, sep='\\s+', header=None, names=['chrom', 'start', 'score'])\n",
    "scores_dir = Path('../steps/interference_score/chimp/gerp/scores_species_coord')\n",
    "scores = pd.read_table(scores_dir / 'chr10.scores', sep='\\s+', header=None, names=['chrom', 'start', 'score'])\n",
    "scores['end'] = scores['start']"
   ]
  },
  {
   "cell_type": "code",
   "execution_count": null,
   "metadata": {
    "collapsed": false,
    "jupyter": {
     "outputs_hidden": false
    }
   },
   "outputs": [],
   "source": [
    "window_size = 100000\n",
    "@window(size=window_size, fill={'mean_score': np.nan})\n",
    "def mean_score(df):\n",
    "    if df.index.size > 0:        \n",
    "        mean = np.nanmean(df.score)\n",
    "    else:\n",
    "        mean = np.nan\n",
    "    return {'mean_score': mean}\n",
    "\n",
    "mean_score_df = scores.groupby('chrom').apply(mean_score)#.reset_index(level=['chrom'])"
   ]
  },
  {
   "cell_type": "code",
   "execution_count": null,
   "metadata": {
    "collapsed": false,
    "jupyter": {
     "outputs_hidden": false
    }
   },
   "outputs": [],
   "source": [
    "mean_score_df.tail()"
   ]
  },
  {
   "cell_type": "code",
   "execution_count": null,
   "metadata": {
    "collapsed": false,
    "jupyter": {
     "outputs_hidden": false
    }
   },
   "outputs": [],
   "source": [
    "plt.plot(mean_score_df.start, mean_score_df.mean_score)"
   ]
  },
  {
   "cell_type": "code",
   "execution_count": null,
   "metadata": {
    "collapsed": false,
    "jupyter": {
     "outputs_hidden": false
    }
   },
   "outputs": [],
   "source": [
    "np.sum(np.isnan(mean_score_df.mean_score))"
   ]
  },
  {
   "cell_type": "code",
   "execution_count": null,
   "metadata": {
    "collapsed": false,
    "jupyter": {
     "outputs_hidden": false
    }
   },
   "outputs": [],
   "source": [
    "np.sum(np.isnan(scores.score))"
   ]
  },
  {
   "cell_type": "code",
   "execution_count": null,
   "metadata": {
    "collapsed": false,
    "jupyter": {
     "outputs_hidden": false
    }
   },
   "outputs": [],
   "source": [
    "np.sum(scores.score < 0)"
   ]
  },
  {
   "cell_type": "code",
   "execution_count": null,
   "metadata": {
    "collapsed": false,
    "jupyter": {
     "outputs_hidden": false
    }
   },
   "outputs": [],
   "source": [
    "plt.hist(scores.score[scores.score < 0])"
   ]
  },
  {
   "cell_type": "markdown",
   "metadata": {},
   "source": [
    "# Fix negative scoress..."
   ]
  },
  {
   "cell_type": "code",
   "execution_count": null,
   "metadata": {
    "collapsed": false,
    "jupyter": {
     "outputs_hidden": false
    }
   },
   "outputs": [],
   "source": [
    "scores = pd.read_table(root_dir / 'test.scores', sep='\\s+', header=None, names=['chrom', 'start', 'score'])\n",
    "scores['end'] = scores['start']"
   ]
  },
  {
   "cell_type": "code",
   "execution_count": null,
   "metadata": {},
   "outputs": [],
   "source": [
    "window_size = 100000\n",
    "@window(size=window_size, fill={'mean_score': np.nan})\n",
    "def mean_score(df):\n",
    "    return {'mean_score': np.nanmean(df.score)}\n",
    "\n",
    "mean_score_df = scores.groupby('chrom').apply(mean_score).reset_index(level=['chrom'])"
   ]
  },
  {
   "cell_type": "code",
   "execution_count": null,
   "metadata": {
    "collapsed": false,
    "jupyter": {
     "outputs_hidden": false
    }
   },
   "outputs": [],
   "source": [
    "plt.plot(mean_score_df.start, mean_score_df.mean_score)"
   ]
  },
  {
   "cell_type": "code",
   "execution_count": null,
   "metadata": {
    "collapsed": false,
    "jupyter": {
     "outputs_hidden": false
    }
   },
   "outputs": [],
   "source": [
    "np.sum(scores.score < 0)"
   ]
  }
 ],
 "metadata": {
  "anaconda-cloud": {},
  "kernelspec": {
   "display_name": "Python 3 (ipykernel)",
   "language": "python",
   "name": "python3"
  },
  "language_info": {
   "codemirror_mode": {
    "name": "ipython",
    "version": 3
   },
   "file_extension": ".py",
   "mimetype": "text/x-python",
   "name": "python",
   "nbconvert_exporter": "python",
   "pygments_lexer": "ipython3",
   "version": "3.8.15"
  }
 },
 "nbformat": 4,
 "nbformat_minor": 4
}
